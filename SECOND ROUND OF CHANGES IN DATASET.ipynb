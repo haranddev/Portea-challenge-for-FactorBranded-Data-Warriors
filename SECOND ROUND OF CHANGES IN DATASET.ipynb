{
 "cells": [
  {
   "cell_type": "code",
   "execution_count": 1,
   "metadata": {},
   "outputs": [],
   "source": [
    "import pandas as pd\n",
    "import numpy as np\n",
    "import matplotlib.pyplot as plt\n",
    "import seaborn as sns\n",
    "%matplotlib inline"
   ]
  },
  {
   "cell_type": "code",
   "execution_count": 3,
   "metadata": {
    "collapsed": true
   },
   "outputs": [
    {
     "name": "stderr",
     "output_type": "stream",
     "text": [
      "C:\\Users\\HarShreya\\Anaconda3\\lib\\site-packages\\IPython\\core\\interactiveshell.py:2728: DtypeWarning: Columns (20,21) have mixed types. Specify dtype option on import or set low_memory=False.\n",
      "  interactivity=interactivity, compiler=compiler, result=result)\n",
      "C:\\Users\\HarShreya\\Anaconda3\\lib\\site-packages\\IPython\\core\\interactiveshell.py:2728: DtypeWarning: Columns (19) have mixed types. Specify dtype option on import or set low_memory=False.\n",
      "  interactivity=interactivity, compiler=compiler, result=result)\n"
     ]
    }
   ],
   "source": [
    "sub=pd.read_csv('Submission.csv')\n",
    "pat_mon_rev_train=pd.read_csv('patient_monthwise_revenue_train.csv')\n",
    "pat_mon_rev_test=pd.read_csv('patient_monthwise_revenue_test.csv')\n",
    "physio_diagnosis_train=pd.read_csv('physio_diagnosis_train.csv')\n",
    "patient_train_classified=pd.read_csv('patient_train_classified.csv')\n",
    "physio_appts_train=pd.read_csv('physio_appts_train.csv')\n",
    "df_train=pd.read_csv('training_5.csv')\n",
    "df_test=pd.read_csv('training_ready.csv')\n",
    "patient_monthwise_revenue_test=pd.read_csv('patient_monthwise_revenue_test.csv')\n",
    "physio_diagnosis_test=pd.read_csv('physio_diagnosis_test.csv')"
   ]
  },
  {
   "cell_type": "code",
   "execution_count": 5,
   "metadata": {},
   "outputs": [],
   "source": [
    "train_4=pd.read_csv('training_4.csv')"
   ]
  },
  {
   "cell_type": "code",
   "execution_count": 7,
   "metadata": {},
   "outputs": [
    {
     "data": {
      "text/plain": [
       "(48727, 11)"
      ]
     },
     "execution_count": 7,
     "metadata": {},
     "output_type": "execute_result"
    }
   ],
   "source": [
    "train_4.shape"
   ]
  },
  {
   "cell_type": "code",
   "execution_count": 8,
   "metadata": {},
   "outputs": [
    {
     "data": {
      "text/plain": [
       "(47648, 10)"
      ]
     },
     "execution_count": 8,
     "metadata": {},
     "output_type": "execute_result"
    }
   ],
   "source": [
    "df_train.shape"
   ]
  },
  {
   "cell_type": "code",
   "execution_count": 15,
   "metadata": {
    "scrolled": true
   },
   "outputs": [
    {
     "data": {
      "text/html": [
       "<div>\n",
       "<style scoped>\n",
       "    .dataframe tbody tr th:only-of-type {\n",
       "        vertical-align: middle;\n",
       "    }\n",
       "\n",
       "    .dataframe tbody tr th {\n",
       "        vertical-align: top;\n",
       "    }\n",
       "\n",
       "    .dataframe thead th {\n",
       "        text-align: right;\n",
       "    }\n",
       "</style>\n",
       "<table border=\"1\" class=\"dataframe\">\n",
       "  <thead>\n",
       "    <tr style=\"text-align: right;\">\n",
       "      <th></th>\n",
       "      <th>pid</th>\n",
       "      <th>bucket</th>\n",
       "      <th>service</th>\n",
       "      <th>age</th>\n",
       "      <th>gender</th>\n",
       "      <th>city</th>\n",
       "      <th>ref_type</th>\n",
       "      <th>ref_name</th>\n",
       "      <th>ref_source</th>\n",
       "      <th>s/c</th>\n",
       "      <th>avg_nps</th>\n",
       "    </tr>\n",
       "  </thead>\n",
       "  <tbody>\n",
       "    <tr>\n",
       "      <th>0</th>\n",
       "      <td>400061</td>\n",
       "      <td>3</td>\n",
       "      <td>10</td>\n",
       "      <td>62</td>\n",
       "      <td>1</td>\n",
       "      <td>3</td>\n",
       "      <td>1</td>\n",
       "      <td>77</td>\n",
       "      <td>4</td>\n",
       "      <td>0.500000</td>\n",
       "      <td>10</td>\n",
       "    </tr>\n",
       "    <tr>\n",
       "      <th>1</th>\n",
       "      <td>25535</td>\n",
       "      <td>0</td>\n",
       "      <td>10</td>\n",
       "      <td>42</td>\n",
       "      <td>0</td>\n",
       "      <td>0</td>\n",
       "      <td>1</td>\n",
       "      <td>136</td>\n",
       "      <td>5</td>\n",
       "      <td>0.741176</td>\n",
       "      <td>\\N</td>\n",
       "    </tr>\n",
       "    <tr>\n",
       "      <th>2</th>\n",
       "      <td>409013</td>\n",
       "      <td>3</td>\n",
       "      <td>10</td>\n",
       "      <td>67</td>\n",
       "      <td>1</td>\n",
       "      <td>21</td>\n",
       "      <td>1</td>\n",
       "      <td>91</td>\n",
       "      <td>5</td>\n",
       "      <td>0.583333</td>\n",
       "      <td>10</td>\n",
       "    </tr>\n",
       "    <tr>\n",
       "      <th>3</th>\n",
       "      <td>164585</td>\n",
       "      <td>2</td>\n",
       "      <td>10</td>\n",
       "      <td>75</td>\n",
       "      <td>0</td>\n",
       "      <td>11</td>\n",
       "      <td>1</td>\n",
       "      <td>150</td>\n",
       "      <td>0</td>\n",
       "      <td>0.500000</td>\n",
       "      <td>\\N</td>\n",
       "    </tr>\n",
       "    <tr>\n",
       "      <th>4</th>\n",
       "      <td>56960</td>\n",
       "      <td>2</td>\n",
       "      <td>10</td>\n",
       "      <td>63</td>\n",
       "      <td>1</td>\n",
       "      <td>3</td>\n",
       "      <td>1</td>\n",
       "      <td>150</td>\n",
       "      <td>9</td>\n",
       "      <td>0.800000</td>\n",
       "      <td>\\N</td>\n",
       "    </tr>\n",
       "  </tbody>\n",
       "</table>\n",
       "</div>"
      ],
      "text/plain": [
       "      pid  bucket  service  age  gender  city  ref_type  ref_name  ref_source  \\\n",
       "0  400061       3       10   62       1     3         1        77           4   \n",
       "1   25535       0       10   42       0     0         1       136           5   \n",
       "2  409013       3       10   67       1    21         1        91           5   \n",
       "3  164585       2       10   75       0    11         1       150           0   \n",
       "4   56960       2       10   63       1     3         1       150           9   \n",
       "\n",
       "        s/c avg_nps  \n",
       "0  0.500000      10  \n",
       "1  0.741176      \\N  \n",
       "2  0.583333      10  \n",
       "3  0.500000      \\N  \n",
       "4  0.800000      \\N  "
      ]
     },
     "execution_count": 15,
     "metadata": {},
     "output_type": "execute_result"
    }
   ],
   "source": [
    "df_train.head()"
   ]
  },
  {
   "cell_type": "code",
   "execution_count": 9,
   "metadata": {},
   "outputs": [],
   "source": [
    "#we need avg_nps, the last dataset from which we can extract it has much more rows than our final training data,\n",
    "#this can be observed from the difference in the shape above.\n",
    "ref_=[]\n",
    "for index,rows in df_train.iterrows():\n",
    "    ref_.append(pat_mon_rev_train[pat_mon_rev_train.patient_id==rows.pid].avg_nps)\n",
    "\n",
    "    "
   ]
  },
  {
   "cell_type": "code",
   "execution_count": 12,
   "metadata": {},
   "outputs": [],
   "source": [
    "ref1=[]\n",
    "for i in ref_:\n",
    "    ref1.append(str(i).split(\"\\n\")[0].split(\" \")[4])\n",
    "df_train['avg_nps']=pd.Series(ref1)"
   ]
  },
  {
   "cell_type": "code",
   "execution_count": 20,
   "metadata": {},
   "outputs": [
    {
     "data": {
      "text/plain": [
       "<matplotlib.axes._subplots.AxesSubplot at 0x1b2a4598c18>"
      ]
     },
     "execution_count": 20,
     "metadata": {},
     "output_type": "execute_result"
    },
    {
     "data": {
      "image/png": "[encoded data removed]",
      "text/plain": [
       "<matplotlib.figure.Figure at 0x1b2a5e2b940>"
      ]
     },
     "metadata": {},
     "output_type": "display_data"
    }
   ],
   "source": [
    "df_train[df_train.avg_nps=='0'].bucket.hist()"
   ]
  },
  {
   "cell_type": "code",
   "execution_count": 21,
   "metadata": {},
   "outputs": [
    {
     "data": {
      "text/html": [
       "<div>\n",
       "<style scoped>\n",
       "    .dataframe tbody tr th:only-of-type {\n",
       "        vertical-align: middle;\n",
       "    }\n",
       "\n",
       "    .dataframe tbody tr th {\n",
       "        vertical-align: top;\n",
       "    }\n",
       "\n",
       "    .dataframe thead th {\n",
       "        text-align: right;\n",
       "    }\n",
       "</style>\n",
       "<table border=\"1\" class=\"dataframe\">\n",
       "  <thead>\n",
       "    <tr style=\"text-align: right;\">\n",
       "      <th></th>\n",
       "      <th>patient_id</th>\n",
       "      <th>visit_month_year</th>\n",
       "      <th>service_id</th>\n",
       "      <th>visits_count</th>\n",
       "      <th>city</th>\n",
       "      <th>revenue</th>\n",
       "      <th>ref_type</th>\n",
       "      <th>ref_name</th>\n",
       "      <th>ref_source</th>\n",
       "      <th>service_name</th>\n",
       "      <th>...</th>\n",
       "      <th>FVS</th>\n",
       "      <th>approx_age</th>\n",
       "      <th>gender</th>\n",
       "      <th>LVD</th>\n",
       "      <th>brand</th>\n",
       "      <th>visits_required</th>\n",
       "      <th>diagnosis</th>\n",
       "      <th>avg_nps</th>\n",
       "      <th>Unnamed: 20</th>\n",
       "      <th>Unnamed: 21</th>\n",
       "    </tr>\n",
       "  </thead>\n",
       "  <tbody>\n",
       "    <tr>\n",
       "      <th>0</th>\n",
       "      <td>10020</td>\n",
       "      <td>04/15</td>\n",
       "      <td>2</td>\n",
       "      <td>1</td>\n",
       "      <td>Chennai</td>\n",
       "      <td>500.0</td>\n",
       "      <td>B2C</td>\n",
       "      <td>None</td>\n",
       "      <td>Direct Organic</td>\n",
       "      <td>P</td>\n",
       "      <td>...</td>\n",
       "      <td>P</td>\n",
       "      <td>62</td>\n",
       "      <td>male</td>\n",
       "      <td>21/04/2015</td>\n",
       "      <td>Portea</td>\n",
       "      <td>1</td>\n",
       "      <td>Post Operative condition of Cardiac Valve repl...</td>\n",
       "      <td>\\N</td>\n",
       "      <td>NaN</td>\n",
       "      <td>NaN</td>\n",
       "    </tr>\n",
       "    <tr>\n",
       "      <th>1</th>\n",
       "      <td>10293</td>\n",
       "      <td>04/17</td>\n",
       "      <td>2</td>\n",
       "      <td>7</td>\n",
       "      <td>Mumbai</td>\n",
       "      <td>4900.0</td>\n",
       "      <td>B2C</td>\n",
       "      <td>Facebook</td>\n",
       "      <td>Digital + ATL</td>\n",
       "      <td>P</td>\n",
       "      <td>...</td>\n",
       "      <td>P</td>\n",
       "      <td>42</td>\n",
       "      <td>female</td>\n",
       "      <td>25/04/2017</td>\n",
       "      <td>Portea</td>\n",
       "      <td>8</td>\n",
       "      <td>Rheumatoid arthritis</td>\n",
       "      <td>9</td>\n",
       "      <td>NaN</td>\n",
       "      <td>NaN</td>\n",
       "    </tr>\n",
       "    <tr>\n",
       "      <th>2</th>\n",
       "      <td>10381</td>\n",
       "      <td>07/15</td>\n",
       "      <td>2</td>\n",
       "      <td>1</td>\n",
       "      <td>NCR</td>\n",
       "      <td>500.0</td>\n",
       "      <td>B2C</td>\n",
       "      <td>None</td>\n",
       "      <td>Direct Organic</td>\n",
       "      <td>P</td>\n",
       "      <td>...</td>\n",
       "      <td>P</td>\n",
       "      <td>67</td>\n",
       "      <td>male</td>\n",
       "      <td>11/09/2015</td>\n",
       "      <td>Portea</td>\n",
       "      <td>10</td>\n",
       "      <td>frozen shoulder</td>\n",
       "      <td>8</td>\n",
       "      <td>NaN</td>\n",
       "      <td>NaN</td>\n",
       "    </tr>\n",
       "    <tr>\n",
       "      <th>3</th>\n",
       "      <td>10381</td>\n",
       "      <td>08/15</td>\n",
       "      <td>2</td>\n",
       "      <td>20</td>\n",
       "      <td>NCR</td>\n",
       "      <td>9500.0</td>\n",
       "      <td>B2C</td>\n",
       "      <td>None</td>\n",
       "      <td>Direct Organic</td>\n",
       "      <td>P</td>\n",
       "      <td>...</td>\n",
       "      <td>P</td>\n",
       "      <td>67</td>\n",
       "      <td>male</td>\n",
       "      <td>11/09/2015</td>\n",
       "      <td>Portea</td>\n",
       "      <td>10</td>\n",
       "      <td>frozen shoulder</td>\n",
       "      <td>8</td>\n",
       "      <td>NaN</td>\n",
       "      <td>NaN</td>\n",
       "    </tr>\n",
       "    <tr>\n",
       "      <th>4</th>\n",
       "      <td>10381</td>\n",
       "      <td>08/15</td>\n",
       "      <td>98</td>\n",
       "      <td>1</td>\n",
       "      <td>NCR</td>\n",
       "      <td>0.0</td>\n",
       "      <td>B2C</td>\n",
       "      <td>None</td>\n",
       "      <td>Direct Organic</td>\n",
       "      <td>P</td>\n",
       "      <td>...</td>\n",
       "      <td>P</td>\n",
       "      <td>67</td>\n",
       "      <td>male</td>\n",
       "      <td>11/09/2015</td>\n",
       "      <td>Portea</td>\n",
       "      <td>10</td>\n",
       "      <td>frozen shoulder</td>\n",
       "      <td>8</td>\n",
       "      <td>NaN</td>\n",
       "      <td>NaN</td>\n",
       "    </tr>\n",
       "  </tbody>\n",
       "</table>\n",
       "<p>5 rows × 22 columns</p>\n",
       "</div>"
      ],
      "text/plain": [
       "   patient_id visit_month_year  service_id  visits_count     city  revenue  \\\n",
       "0       10020            04/15           2             1  Chennai    500.0   \n",
       "1       10293            04/17           2             7   Mumbai   4900.0   \n",
       "2       10381            07/15           2             1      NCR    500.0   \n",
       "3       10381            08/15           2            20      NCR   9500.0   \n",
       "4       10381            08/15          98             1      NCR      0.0   \n",
       "\n",
       "  ref_type  ref_name      ref_source service_name     ...     FVS approx_age  \\\n",
       "0      B2C      None  Direct Organic            P     ...       P         62   \n",
       "1      B2C  Facebook   Digital + ATL            P     ...       P         42   \n",
       "2      B2C      None  Direct Organic            P     ...       P         67   \n",
       "3      B2C      None  Direct Organic            P     ...       P         67   \n",
       "4      B2C      None  Direct Organic            P     ...       P         67   \n",
       "\n",
       "   gender         LVD   brand visits_required  \\\n",
       "0    male  21/04/2015  Portea               1   \n",
       "1  female  25/04/2017  Portea               8   \n",
       "2    male  11/09/2015  Portea              10   \n",
       "3    male  11/09/2015  Portea              10   \n",
       "4    male  11/09/2015  Portea              10   \n",
       "\n",
       "                                           diagnosis  avg_nps Unnamed: 20  \\\n",
       "0  Post Operative condition of Cardiac Valve repl...       \\N         NaN   \n",
       "1                               Rheumatoid arthritis        9         NaN   \n",
       "2                                    frozen shoulder        8         NaN   \n",
       "3                                    frozen shoulder        8         NaN   \n",
       "4                                    frozen shoulder        8         NaN   \n",
       "\n",
       "  Unnamed: 21  \n",
       "0         NaN  \n",
       "1         NaN  \n",
       "2         NaN  \n",
       "3         NaN  \n",
       "4         NaN  \n",
       "\n",
       "[5 rows x 22 columns]"
      ]
     },
     "execution_count": 21,
     "metadata": {},
     "output_type": "execute_result"
    }
   ],
   "source": [
    "pat_mon_rev_train.head()"
   ]
  }
 ],
 "metadata": {
  "kernelspec": {
   "display_name": "Python 3",
   "language": "python",
   "name": "python3"
  },
  "language_info": {
   "codemirror_mode": {
    "name": "ipython",
    "version": 3
   },
   "file_extension": ".py",
   "mimetype": "text/x-python",
   "name": "python",
   "nbconvert_exporter": "python",
   "pygments_lexer": "ipython3",
   "version": "3.6.4"
  }
 },
 "nbformat": 4,
 "nbformat_minor": 2
}
