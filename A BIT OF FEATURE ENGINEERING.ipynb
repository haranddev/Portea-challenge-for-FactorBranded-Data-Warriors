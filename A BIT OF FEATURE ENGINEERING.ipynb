{
 "cells": [
  {
   "cell_type": "markdown",
   "metadata": {},
   "source": [
    "# In this kernel\n",
    "# 1. We will continue our expedition of extracting features from several files,    tailor them to our need and save them.\n",
    "# 2. Try to create some features which have high impact on the correlations amongst independent variables and dependent variable."
   ]
  },
  {
   "cell_type": "code",
   "execution_count": 1,
   "metadata": {},
   "outputs": [],
   "source": [
    "import pandas as pd\n",
    "import numpy as np\n",
    "import matplotlib.pyplot as plt\n",
    "%matplotlib inline"
   ]
  },
  {
   "cell_type": "code",
   "execution_count": 2,
   "metadata": {},
   "outputs": [
    {
     "name": "stderr",
     "output_type": "stream",
     "text": [
      "C:\\Users\\HarShreya\\Anaconda3\\lib\\site-packages\\IPython\\core\\interactiveshell.py:2728: DtypeWarning: Columns (20,21) have mixed types. Specify dtype option on import or set low_memory=False.\n",
      "  interactivity=interactivity, compiler=compiler, result=result)\n",
      "C:\\Users\\HarShreya\\Anaconda3\\lib\\site-packages\\IPython\\core\\interactiveshell.py:2728: DtypeWarning: Columns (19) have mixed types. Specify dtype option on import or set low_memory=False.\n",
      "  interactivity=interactivity, compiler=compiler, result=result)\n"
     ]
    }
   ],
   "source": [
    "sub=pd.read_csv('Submission.csv')\n",
    "pat_mon_rev_train=pd.read_csv('patient_monthwise_revenue_train.csv')\n",
    "pat_mon_rev_test=pd.read_csv('patient_monthwise_revenue_test.csv')\n",
    "physio_diagnosis_train=pd.read_csv('physio_diagnosis_train.csv')\n",
    "patient_train_classified=pd.read_csv('patient_train_classified.csv')\n",
    "physio_appts_train=pd.read_csv('physio_appts_train.csv')\n",
    "df=pd.read_csv('Training_in_making_1.csv')\n"
   ]
  },
  {
   "cell_type": "code",
   "execution_count": 45,
   "metadata": {},
   "outputs": [],
   "source": [
    "ref_type=[]\n",
    "ref_name=[]\n",
    "ref_source=[]\n",
    "ref_brand=[]\n",
    "avg_nps=[]\n",
    "for index,rows in df.iterrows():\n",
    "    ref_type.append(pat_mon_rev_train[pat_mon_rev_train.patient_id==rows.pid].ref_type.mode())\n",
    "    ref_name.append(pat_mon_rev_train[pat_mon_rev_train.patient_id==rows.pid].ref_name.mode())\n",
    "    ref_source.append(pat_mon_rev_train[pat_mon_rev_train.patient_id==rows.pid].ref_source.mode())\n",
    "    ref_brand.append(pat_mon_rev_train[pat_mon_rev_train.patient_id==rows.pid].brand.mode())\n",
    "    avg_nps.append(pat_mon_rev_train[pat_mon_rev_train.patient_id==rows.pid].avg_nps.mode())\n",
    "         \n",
    "#---------------------------------------------------------------------------------------------\n",
    "#REFERENCE_NAME\n",
    "ref_=[]\n",
    "for index,rows in df.iterrows():\n",
    "    ref_.append(pat_mon_rev_train[pat_mon_rev_train.patient_id==rows.pid].ref_name.mode())\n",
    "ref1=[]\n",
    "for i in ref_:\n",
    "    ref1.append(str(i).split(\"\\n\")[0].split(\" \")[4])\n",
    "df['ref_name']=pd.Series(ref1)\n",
    "\n",
    "#---------------------------------------------------------------------------------------------\n",
    "#REFERENCE SOURCE\n",
    "ref_=[]\n",
    "for index,rows in df.iterrows():\n",
    "    ref_.append(pat_mon_rev_train[pat_mon_rev_train.patient_id==rows.pid].ref_source.mode())\n",
    "ref1=[]\n",
    "for i in ref_:\n",
    "    ref1.append(str(i).split(\"\\n\")[0].split(\" \")[4])\n",
    "df['ref_source']=pd.Series(ref1)\n",
    "#---------------------------------------------------------------------------------------------\n",
    "#brand\n",
    "ref_=[]\n",
    "for index,rows in df.iterrows():\n",
    "    ref_.append(pat_mon_rev_train[pat_mon_rev_train.patient_id==rows.pid].brand.mode())\n",
    "ref1=[]\n",
    "for i in ref_:\n",
    "    ref1.append(str(i).split(\"\\n\")[0].split(\" \")[4])\n",
    "df['brand']=pd.Series(ref1)\n",
    "#--------------------------------------------------------------------------------------------\n",
    "#avg_nps\n",
    "ref_=[]\n",
    "for index,rows in df.iterrows():\n",
    "    ref_.append(pat_mon_rev_train[pat_mon_rev_train.patient_id==rows.pid].avg_nps.mode())\n",
    "ref1=[]\n",
    "for i in ref_:\n",
    "    ref1.append(str(i).split(\"\\n\")[0].split(\" \")[4])\n",
    "df['avg_nps']=pd.Series(ref1)"
   ]
  },
  {
   "cell_type": "code",
   "execution_count": 113,
   "metadata": {},
   "outputs": [
    {
     "data": {
      "text/html": [
       "<div>\n",
       "<style scoped>\n",
       "    .dataframe tbody tr th:only-of-type {\n",
       "        vertical-align: middle;\n",
       "    }\n",
       "\n",
       "    .dataframe tbody tr th {\n",
       "        vertical-align: top;\n",
       "    }\n",
       "\n",
       "    .dataframe thead th {\n",
       "        text-align: right;\n",
       "    }\n",
       "</style>\n",
       "<table border=\"1\" class=\"dataframe\">\n",
       "  <thead>\n",
       "    <tr style=\"text-align: right;\">\n",
       "      <th></th>\n",
       "      <th>pid</th>\n",
       "      <th>bucket</th>\n",
       "      <th>diagnosis</th>\n",
       "      <th>service</th>\n",
       "      <th>age</th>\n",
       "      <th>gender</th>\n",
       "      <th>city</th>\n",
       "      <th>ref_type</th>\n",
       "      <th>ref_name</th>\n",
       "      <th>ref_source</th>\n",
       "      <th>avg_nps</th>\n",
       "      <th>s/c</th>\n",
       "    </tr>\n",
       "  </thead>\n",
       "  <tbody>\n",
       "    <tr>\n",
       "      <th>0</th>\n",
       "      <td>400061</td>\n",
       "      <td>Med</td>\n",
       "      <td>Post Operative condition of Cardiac Valve repl...</td>\n",
       "      <td>physiotherapy</td>\n",
       "      <td>62</td>\n",
       "      <td>male</td>\n",
       "      <td>Bangalore</td>\n",
       "      <td>B2C</td>\n",
       "      <td>Google</td>\n",
       "      <td>Digital</td>\n",
       "      <td>10</td>\n",
       "      <td>0.500000</td>\n",
       "    </tr>\n",
       "    <tr>\n",
       "      <th>1</th>\n",
       "      <td>25535</td>\n",
       "      <td>High</td>\n",
       "      <td>Rheumatoid arthritis</td>\n",
       "      <td>physiotherapy</td>\n",
       "      <td>42</td>\n",
       "      <td>female</td>\n",
       "      <td>Ahmedabad</td>\n",
       "      <td>B2C</td>\n",
       "      <td>None</td>\n",
       "      <td>Direct</td>\n",
       "      <td>\\N</td>\n",
       "      <td>0.741176</td>\n",
       "    </tr>\n",
       "    <tr>\n",
       "      <th>2</th>\n",
       "      <td>409013</td>\n",
       "      <td>Med</td>\n",
       "      <td>frozen shoulder</td>\n",
       "      <td>physiotherapy</td>\n",
       "      <td>67</td>\n",
       "      <td>male</td>\n",
       "      <td>NCR</td>\n",
       "      <td>B2C</td>\n",
       "      <td>Incoming</td>\n",
       "      <td>Direct</td>\n",
       "      <td>10</td>\n",
       "      <td>0.583333</td>\n",
       "    </tr>\n",
       "    <tr>\n",
       "      <th>3</th>\n",
       "      <td>164585</td>\n",
       "      <td>Low</td>\n",
       "      <td>Osteoarthritis,Bilateral Osteoarthritis</td>\n",
       "      <td>physiotherapy</td>\n",
       "      <td>75</td>\n",
       "      <td>female</td>\n",
       "      <td>Hyderabad</td>\n",
       "      <td>B2C</td>\n",
       "      <td>Patient</td>\n",
       "      <td>App</td>\n",
       "      <td>\\N</td>\n",
       "      <td>0.500000</td>\n",
       "    </tr>\n",
       "    <tr>\n",
       "      <th>4</th>\n",
       "      <td>56960</td>\n",
       "      <td>Low</td>\n",
       "      <td>periarthritis shoulder (Right side),frozen sho...</td>\n",
       "      <td>physiotherapy</td>\n",
       "      <td>63</td>\n",
       "      <td>male</td>\n",
       "      <td>Bangalore</td>\n",
       "      <td>B2C</td>\n",
       "      <td>Patient</td>\n",
       "      <td>Referral</td>\n",
       "      <td>\\N</td>\n",
       "      <td>0.800000</td>\n",
       "    </tr>\n",
       "  </tbody>\n",
       "</table>\n",
       "</div>"
      ],
      "text/plain": [
       "      pid bucket                                          diagnosis  \\\n",
       "0  400061    Med  Post Operative condition of Cardiac Valve repl...   \n",
       "1   25535   High                               Rheumatoid arthritis   \n",
       "2  409013    Med                                    frozen shoulder   \n",
       "3  164585    Low            Osteoarthritis,Bilateral Osteoarthritis   \n",
       "4   56960    Low  periarthritis shoulder (Right side),frozen sho...   \n",
       "\n",
       "         service age  gender       city ref_type  ref_name ref_source avg_nps  \\\n",
       "0  physiotherapy  62    male  Bangalore      B2C    Google    Digital      10   \n",
       "1  physiotherapy  42  female  Ahmedabad      B2C      None     Direct      \\N   \n",
       "2  physiotherapy  67    male        NCR      B2C  Incoming     Direct      10   \n",
       "3  physiotherapy  75  female  Hyderabad      B2C   Patient        App      \\N   \n",
       "4  physiotherapy  63    male  Bangalore      B2C   Patient   Referral      \\N   \n",
       "\n",
       "        s/c  \n",
       "0  0.500000  \n",
       "1  0.741176  \n",
       "2  0.583333  \n",
       "3  0.500000  \n",
       "4  0.800000  "
      ]
     },
     "execution_count": 113,
     "metadata": {},
     "output_type": "execute_result"
    }
   ],
   "source": [
    "df.head()"
   ]
  },
  {
   "cell_type": "code",
   "execution_count": 110,
   "metadata": {},
   "outputs": [],
   "source": [
    "#finding out the percentage of appointment getting successful. This continuous feature will later have huge impact while\n",
    "# addressing the correlation between the features and the output.\n",
    "ref_=[]\n",
    "for index,rows in df.iterrows():\n",
    "    temp_s=physio_appts_train[physio_appts_train.pat_id==rows.pid].status.value_counts()\n",
    "    temp_l=temp_s.tolist()\n",
    "    s=temp_l[0]\n",
    "    c=temp_l[-1]\n",
    "    p=s/(s+c)\n",
    "    ref_.append(p)\n",
    "\n",
    "df['s/c']=pd.Series(ref_)"
   ]
  },
  {
   "cell_type": "code",
   "execution_count": 120,
   "metadata": {},
   "outputs": [
    {
     "data": {
      "text/plain": [
       "High        1231\n",
       "High-Med    1124\n",
       "Med          440\n",
       "Low          305\n",
       "Name: bucket, dtype: int64"
      ]
     },
     "execution_count": 120,
     "metadata": {},
     "output_type": "execute_result"
    }
   ],
   "source": [
    "df[df['s/c']>0.90].bucket.value_counts()"
   ]
  }
 ],
 "metadata": {
  "kernelspec": {
   "display_name": "Python 3",
   "language": "python",
   "name": "python3"
  },
  "language_info": {
   "codemirror_mode": {
    "name": "ipython",
    "version": 3
   },
   "file_extension": ".py",
   "mimetype": "text/x-python",
   "name": "python",
   "nbconvert_exporter": "python",
   "pygments_lexer": "ipython3",
   "version": "3.6.4"
  }
 },
 "nbformat": 4,
 "nbformat_minor": 2
}
